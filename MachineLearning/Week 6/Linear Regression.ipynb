{
 "cells": [
  {
   "cell_type": "markdown",
   "metadata": {
    "collapsed": true,
    "pycharm": {
     "name": "#%% md\n"
    }
   },
   "source": []
  },
  {
   "cell_type": "markdown",
   "source": [
    "## Assignment 1: Math behind linear regression\n",
    "Read the 3 pages (p. 48- 50) in “Machine Learning For Absolute Beginners” Chapter 6 about “Math\n",
    "behind linear regression”. Also given in Appendix A.\n",
    "Discuss the formula for calculating a and b:\n",
    "\n",
    "## Assignment 2: Application program two different lists\n",
    "We start to calculate the product of elements in two lists and append the result to a third list, xy.\n",
    "First, import libraries numpy, pandas and matplotlib.pyplot as plt.\n",
    "In one cell, declare two lists x & y of same length and an empty list, xy, for the product of elements.\n",
    "list1 = [1, 2, 5]\n",
    "list2 = [2, 4, 6]\n",
    "xy = []\n",
    "for num1, num2 in zip(list1, list2):\n",
    "xy.append(num1*num2)\n",
    "print(xy)\n",
    "Run"
   ],
   "metadata": {
    "collapsed": false,
    "pycharm": {
     "name": "#%% md\n"
    }
   }
  },
  {
   "cell_type": "code",
   "execution_count": null,
   "outputs": [],
   "source": [
    "import numpy, pandas, matplotlib.pyplot as plt"
   ],
   "metadata": {
    "collapsed": false,
    "pycharm": {
     "name": "#%%\n"
    }
   }
  },
  {
   "cell_type": "code",
   "execution_count": 1,
   "outputs": [
    {
     "name": "stdout",
     "output_type": "stream",
     "text": [
      "[2, 8, 30]\n"
     ]
    }
   ],
   "source": [
    "list1 = [1, 2, 5]\n",
    "list2 = [2, 4, 6]\n",
    "xy = []\n",
    "for num1, num2 in zip(list1, list2):\n",
    "    xy.append(num1*num2)\n",
    "print(xy)"
   ],
   "metadata": {
    "collapsed": false,
    "pycharm": {
     "name": "#%%\n"
    }
   }
  },
  {
   "cell_type": "markdown",
   "source": [
    "## Assignment 3: Function sum of products\n",
    "Declare a function, def xySum_Prod, to calculate and return the sum of product of elements in in\n",
    "two lists: def xySum_Prod(list1,list2):\n",
    ". . . . . .\n",
    "Tip: Similar to assignment 1.\n",
    "Note: list2 can be the same as list1."
   ],
   "metadata": {
    "collapsed": false
   }
  },
  {
   "cell_type": "code",
   "execution_count": 13,
   "outputs": [
    {
     "name": "stdout",
     "output_type": "stream",
     "text": [
      "30\n"
     ]
    }
   ],
   "source": [
    "def xySum_Prod(list_one, list_two):\n",
    "    return sum([number_one * number_two for number_one, number_two in zip(list_one, list_two)])\n",
    "\n",
    "print(xySum_Prod(list1,list1))"
   ],
   "metadata": {
    "collapsed": false,
    "pycharm": {
     "name": "#%%\n"
    }
   }
  },
  {
   "cell_type": "markdown",
   "source": [
    "## Assignment 4: a, the intersection with the y-axis\n",
    "Declare a function for calculating and returning a.\n",
    "def find_a(x, y):\n",
    "n = len(x)\n",
    "xSum = sum(x)\n",
    "ySum = sum(y)\n",
    "xySum = xySum_Prod(x,y)\n",
    "x2Sum = xySum_Prod(x,x)\n",
    "a = ((ySum * x2Sum) - .. . . . # fill out the rest yourself.\n",
    "return a\n",
    "Call the function for list1 and list2, and print out the result.\n",
    "Is it correct ?"
   ],
   "metadata": {
    "collapsed": false
   }
  },
  {
   "cell_type": "code",
   "execution_count": 14,
   "outputs": [
    {
     "name": "stdout",
     "output_type": "stream",
     "text": [
      "0.6666666666666666\n"
     ]
    }
   ],
   "source": [
    "def find_a(x,y):\n",
    "    n = len(x)\n",
    "    xSum = sum(x)\n",
    "    ySum = sum(y)\n",
    "    xySum = xySum_Prod(x, y)\n",
    "    x2Sum = xySum_Prod(x,x)\n",
    "    a = ((ySum * x2Sum) - (xSum*xySum))/(n * x2Sum - x2Sum)\n",
    "\n",
    "    return a\n",
    "\n",
    "print(find_a(list1, list2))"
   ],
   "metadata": {
    "collapsed": false,
    "pycharm": {
     "name": "#%%\n"
    }
   }
  },
  {
   "cell_type": "markdown",
   "source": [
    "## Assignment 5: b, the slope\n",
    "In another cell, declare a function for calculating and returning b, the slope:\n",
    "def find_b(x, y):\n",
    ". . . . . . . . . . .\n",
    "Call the function for list1 and list2, and print out the result.\n",
    "Is it correct ?\n",
    "Tip: Very similar to find_a."
   ],
   "metadata": {
    "collapsed": false
   }
  },
  {
   "cell_type": "code",
   "execution_count": 17,
   "outputs": [
    {
     "name": "stdout",
     "output_type": "stream",
     "text": [
      "-0.02962962962962963\n"
     ]
    }
   ],
   "source": [
    "def find_b(x, y):\n",
    "    n = len(x)\n",
    "    xSum = sum(x)\n",
    "    ySum = sum(y)\n",
    "    xySum = xySum_Prod(x, y)\n",
    "    x2Sum = xySum_Prod(x,x)\n",
    "    a = (n * xySum - (xSum * ySum)) / ((n * x2Sum) - (x2Sum ** 2))\n",
    "    return a\n",
    "print(find_b(list1, list2))"
   ],
   "metadata": {
    "collapsed": false,
    "pycharm": {
     "name": "#%%\n"
    }
   }
  },
  {
   "cell_type": "code",
   "execution_count": null,
   "outputs": [],
   "source": [],
   "metadata": {
    "collapsed": false,
    "pycharm": {
     "name": "#%%\n"
    }
   }
  },
  {
   "cell_type": "markdown",
   "source": [],
   "metadata": {
    "collapsed": false
   }
  },
  {
   "cell_type": "markdown",
   "source": [
    "## Assignment 6: Application program\n",
    "Declare two lists, x and y similar to the data in appendix A\n",
    "#Cost per click of individual keywords\n",
    "x = [2.3, 2.1, 2.5, 4.5, 5.9, 4.1, 8.9]\n",
    "#Total amount of clicks per day\n",
    "y = [89.0, 63.0, 71.0, 70.0, 80.0, 89.0, 150.0]\n",
    "Use your functions to calculate a and b on this data set."
   ],
   "metadata": {
    "collapsed": false,
    "pycharm": {
     "name": "#%% md\n"
    }
   }
  },
  {
   "cell_type": "code",
   "execution_count": null,
   "outputs": [],
   "source": [
    "x = [2.3, 2.1, 2.5, 4.5, 5.9, 4.1, 8.9]\n",
    "y = [89.0, 63.0, 71.0, 70.0, 80.0, 89.0, 150.0]\n",
    "\n",
    "a = find_a(x, y)\n",
    "b = find_b(x, y)\n"
   ],
   "metadata": {
    "collapsed": false,
    "pycharm": {
     "name": "#%%\n"
    }
   }
  },
  {
   "cell_type": "markdown",
   "source": [
    "## Assignment 7: Application plot of data and line\n",
    "Use the plot library and plot the diagram and the data points.\n",
    "plt.axis([0, 10, 0, 200])\n",
    "plt.scatter(x, y)\n",
    "Use plt.title, plt.xlabel and plt.ylabel to apply text according to the plot on page 2.\n",
    "First, plot a test_line:\n",
    "test_line = [(10.5*item + 38) for item in [0, 10]]\n",
    "plt.plot([0, 10], test_line)\n",
    "Finally, plot the regression line b*item + a."
   ],
   "metadata": {
    "collapsed": false
   }
  },
  {
   "cell_type": "code",
   "execution_count": 63,
   "outputs": [
    {
     "name": "stdout",
     "output_type": "stream",
     "text": [
      "[11.25540322097828, 10.332762948951515]\n",
      "[38.0, 143.0]\n"
     ]
    },
    {
     "data": {
      "text/plain": "[<matplotlib.lines.Line2D at 0x2a8f2672bb0>]"
     },
     "execution_count": 63,
     "metadata": {},
     "output_type": "execute_result"
    },
    {
     "data": {
      "text/plain": "<Figure size 432x288 with 1 Axes>",
      "image/png": "[encoded data removed]"
     },
     "metadata": {
      "needs_background": "light"
     },
     "output_type": "display_data"
    }
   ],
   "source": [
    "import matplotlib.pyplot as plt\n",
    "x = [2.3, 2.1, 2.5, 4.5, 5.9, 4.1, 8.9]\n",
    "y = [89.0, 63.0, 71.0, 70.0, 80.0, 89.0, 150.0]\n",
    "a = find_a(x, y)\n",
    "b = find_b(x, y)\n",
    "plt.axis([0, 10, 0, 200])\n",
    "plt.scatter(x, y)\n",
    "plt.title='Linear regression'\n",
    "plt.xlabel=\"Individual keywords\"\n",
    "plt.ylabel=\"Amount of Clicks per day\"\n",
    "\n",
    "regression = [(b*item + a) for item in [0, 10]]\n",
    "test_line = [(10.5*item + 38) for item in [0, 10]]\n",
    "print(regression)\n",
    "print(test_line)\n",
    "plt.plot([0,10], test_line)\n",
    "plt.plot([0,10], regression)\n"
   ],
   "metadata": {
    "collapsed": false,
    "pycharm": {
     "name": "#%%\n"
    }
   }
  }
 ],
 "metadata": {
  "kernelspec": {
   "display_name": "Python 3",
   "language": "python",
   "name": "python3"
  },
  "language_info": {
   "codemirror_mode": {
    "name": "ipython",
    "version": 2
   },
   "file_extension": ".py",
   "mimetype": "text/x-python",
   "name": "python",
   "nbconvert_exporter": "python",
   "pygments_lexer": "ipython2",
   "version": "2.7.6"
  }
 },
 "nbformat": 4,
 "nbformat_minor": 0
}