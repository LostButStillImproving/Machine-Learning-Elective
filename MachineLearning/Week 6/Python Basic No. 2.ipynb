{
 "cells": [
  {
   "cell_type": "markdown",
   "metadata": {
    "collapsed": true,
    "pycharm": {
     "name": "#%% md\n"
    }
   },
   "source": [
    "## Assignment 1 :\n",
    "Application program two different lists\n",
    "Start Anaconda and Spyder and create a new file.\n",
    "In the file declare two different lists:\n",
    "color = [\"red\", \"big\", \"tasty\"]\n",
    "fruits = [\"apple\", \"banana\", \"cherry\"]\n",
    "Now for each item in color print out each item in fruits with the respective color, so the output looks\n",
    "similar to:\n",
    "red apple\n",
    "red banana\n",
    "red cherry\n",
    "big apple\n",
    "big banana\n",
    "big cherry\n",
    "tasty apple\n",
    "tasty banana\n",
    "tasty cherry"
   ]
  },
  {
   "cell_type": "code",
   "execution_count": 1,
   "outputs": [
    {
     "name": "stdout",
     "output_type": "stream",
     "text": [
      "red apple\n",
      "red banana\n",
      "red cherry\n",
      "big apple\n",
      "big banana\n",
      "big cherry\n",
      "tasty apple\n",
      "tasty banana\n",
      "tasty cherry\n"
     ]
    }
   ],
   "source": [
    "colors = [\"red\", \"big\", \"tasty\"]\n",
    "fruits = [\"apple\", \"banana\", \"cherry\"]\n",
    "\n",
    "for color in colors:\n",
    "    for fruit in fruits:\n",
    "        print(color + \" \" + fruit)"
   ],
   "metadata": {
    "collapsed": false,
    "pycharm": {
     "name": "#%%\n"
    }
   }
  },
  {
   "cell_type": "markdown",
   "source": [
    "## Assignment 2:\n",
    "Application program 2-dim arrays (list) of numbers\n",
    "Lists with sub-lists are actually the Python version of 2-dim arrays.\n",
    "Declare a list with four sub-lists:\n",
    "T = [[11, 12, 5, 2], [15, 6, 10], [10, 8, 12, 5], [12,15,8,6]]\n",
    "print(T)\n",
    "Try: T[1][2] = 99\n",
    "print(T)\n",
    "Which element is changed to the value 99? Print out and see if you were right? ANSWER: The 3rd element in the second nested list is changed\n",
    "Add a nested for-loop so for each sub-list, slist, in T print each element, elem, in sub-list."
   ],
   "metadata": {
    "collapsed": false
   }
  },
  {
   "cell_type": "code",
   "execution_count": 4,
   "outputs": [
    {
     "name": "stdout",
     "output_type": "stream",
     "text": [
      "[[11, 12, 5, 2], [15, 6, 10], [10, 8, 12, 5], [12, 15, 8, 6]]\n",
      "11\n",
      "12\n",
      "5\n",
      "2\n",
      "15\n",
      "6\n",
      "99\n",
      "10\n",
      "8\n",
      "12\n",
      "5\n",
      "12\n",
      "15\n",
      "8\n",
      "6\n"
     ]
    }
   ],
   "source": [
    "T = [[11, 12, 5, 2], [15, 6, 10], [10, 8, 12, 5], [12,15,8,6]]\n",
    "print(T)\n",
    "T[1][2] = 99\n",
    "\n",
    "for nestedList in T:\n",
    "    for element in nestedList:\n",
    "        print(element)"
   ],
   "metadata": {
    "collapsed": false,
    "pycharm": {
     "name": "#%%\n"
    }
   }
  },
  {
   "cell_type": "markdown",
   "source": [
    "## Assignment 3: Random numbers\n",
    "You are to do a program, which can initialize an integer list holding 10 elements of random\n",
    "numbers in the interval [0,100] using the module random.\n",
    "Your program must resemble the following template:\n",
    "import random\n",
    "data = [] # create an empty list\n",
    "while len(data) < 10:\n",
    "randNo= random.randint(0,100)\n",
    "data.append(randNo)\n",
    "print(data)"
   ],
   "metadata": {
    "collapsed": false,
    "pycharm": {
     "name": "#%% md\n"
    }
   }
  },
  {
   "cell_type": "code",
   "execution_count": 3,
   "outputs": [
    {
     "name": "stdout",
     "output_type": "stream",
     "text": [
      "[14, 59, 11, 1, 29, 24, 51, 65, 1, 81, 87, 37, 60, 18, 30, 25, 35, 69, 86, 2, 74, 42, 25, 54, 29, 62, 97, 50, 97, 80, 97, 13, 19, 68, 33, 82, 76, 19, 1, 99, 28, 17, 26, 32, 96, 100, 96, 32, 42, 10, 10, 56, 39, 81, 52, 33, 27, 55, 73, 2, 76, 10, 55, 31, 24, 75, 4, 82, 15, 1, 49, 7, 89, 82, 19, 29, 58, 71, 96, 69, 38, 72, 46, 6, 28, 66, 58, 66, 15, 27, 90, 20, 42, 22, 38, 77, 58, 41, 20, 28]\n"
     ]
    }
   ],
   "source": [
    "import random\n",
    "\n",
    "def rand_list(length = 10, max_number = 100):\n",
    "    return [random.randint(0,max_number) for _ in range(length)]\n",
    "\n",
    "print(rand_list(100))"
   ],
   "metadata": {
    "collapsed": false,
    "pycharm": {
     "name": "#%%\n"
    }
   }
  }
 ],
 "metadata": {
  "kernelspec": {
   "display_name": "Python 3",
   "language": "python",
   "name": "python3"
  },
  "language_info": {
   "codemirror_mode": {
    "name": "ipython",
    "version": 2
   },
   "file_extension": ".py",
   "mimetype": "text/x-python",
   "name": "python",
   "nbconvert_exporter": "python",
   "pygments_lexer": "ipython2",
   "version": "2.7.6"
  }
 },
 "nbformat": 4,
 "nbformat_minor": 0
}