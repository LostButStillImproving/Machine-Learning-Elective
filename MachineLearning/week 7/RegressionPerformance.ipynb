{
 "cells": [
  {
   "cell_type": "code",
   "execution_count": 148,
   "metadata": {
    "collapsed": true,
    "pycharm": {
     "name": "#%%\n"
    }
   },
   "outputs": [],
   "source": [
    "#Cost per click of individual keywords\n",
    "x = [1.0, 2.1, 2.3, 2.5, 4.1, 4.5, 4.9, 5.9, 8.9]\n",
    "#Total amount of clicks per day\n",
    "y = [48.2, 63.0, 89.0, 71.0, 89.0, 82.2, 70.0, 80.0, 150.0]"
   ]
  },
  {
   "cell_type": "code",
   "execution_count": 149,
   "outputs": [],
   "source": [
    "b = 9 # try later 8 9 9.8\n",
    "a = 40 # try later 50 40 44.5\n",
    "A = 1.5\n",
    "B = 2.5\n",
    "C = 45.0\n",
    "def h_poly(x):\n",
    "    ## return b*x + a\n",
    "    return A*x**2 + B*x + C\n",
    "def h_linear(x):\n",
    "    return b*x + a\n"
   ],
   "metadata": {
    "collapsed": false,
    "pycharm": {
     "name": "#%%\n"
    }
   }
  },
  {
   "cell_type": "code",
   "execution_count": 150,
   "outputs": [
    {
     "data": {
      "text/plain": "[<matplotlib.lines.Line2D at 0x2786cfcefd0>]"
     },
     "execution_count": 150,
     "metadata": {},
     "output_type": "execute_result"
    },
    {
     "data": {
      "text/plain": "<Figure size 432x288 with 1 Axes>",
      "image/png": "[encoded data removed]"
     },
     "metadata": {
      "needs_background": "light"
     },
     "output_type": "display_data"
    }
   ],
   "source": [
    "from matplotlib import pyplot as plt\n",
    "\n",
    "plt.axis([0, 20, 0, 200])\n",
    "plt.scatter(x, y)\n",
    "regression_line = [h(item)for item in [0, 10]]\n",
    "plt.plot([0, 20],regression_line)\n"
   ],
   "metadata": {
    "collapsed": false,
    "pycharm": {
     "name": "#%%\n"
    }
   }
  },
  {
   "cell_type": "code",
   "execution_count": 151,
   "outputs": [],
   "source": [
    "def Sum_Of_Squares(list_one, list_two, hFunc):\n",
    "\n",
    "    return sum([(hFunc(number_one) - number_two)**2 for number_one, number_two in zip(list_one, list_two)])\n",
    "\n"
   ],
   "metadata": {
    "collapsed": false,
    "pycharm": {
     "name": "#%%\n"
    }
   }
  },
  {
   "cell_type": "code",
   "execution_count": 152,
   "outputs": [
    {
     "name": "stdout",
     "output_type": "stream",
     "text": [
      "4021.0506000000005\n"
     ]
    }
   ],
   "source": [
    "result = Sum_Of_Squares(x, y, h)\n",
    "print(result)"
   ],
   "metadata": {
    "collapsed": false,
    "pycharm": {
     "name": "#%%\n"
    }
   }
  },
  {
   "cell_type": "code",
   "execution_count": 153,
   "outputs": [
    {
     "name": "stdout",
     "output_type": "stream",
     "text": [
      "21.13725147695414\n",
      "16.00111107253354\n"
     ]
    }
   ],
   "source": [
    "from math import sqrt\n",
    "\n",
    "\n",
    "def RMSE(list_one, list_two, hFunc):\n",
    "    return sqrt(Sum_Of_Squares(list_one,list_two, hFunc)/len(list_one))\n",
    "\n",
    "print(RMSE(x,y,h_poly))\n",
    "print(RMSE(x,y,h_linear))"
   ],
   "metadata": {
    "collapsed": false,
    "pycharm": {
     "name": "#%%\n"
    }
   }
  }
 ],
 "metadata": {
  "kernelspec": {
   "display_name": "Python 3",
   "language": "python",
   "name": "python3"
  },
  "language_info": {
   "codemirror_mode": {
    "name": "ipython",
    "version": 2
   },
   "file_extension": ".py",
   "mimetype": "text/x-python",
   "name": "python",
   "nbconvert_exporter": "python",
   "pygments_lexer": "ipython2",
   "version": "2.7.6"
  }
 },
 "nbformat": 4,
 "nbformat_minor": 0
}