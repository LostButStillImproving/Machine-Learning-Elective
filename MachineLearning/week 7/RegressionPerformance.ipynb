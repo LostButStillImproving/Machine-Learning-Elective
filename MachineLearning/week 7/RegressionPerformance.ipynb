{
 "cells": [
  {
   "cell_type": "code",
   "execution_count": 214,
   "metadata": {
    "collapsed": true,
    "pycharm": {
     "name": "#%%\n"
    }
   },
   "outputs": [],
   "source": [
    "#Cost per click of individual keywords\n",
    "x = [1.0, 2.1, 2.3, 2.5, 4.1, 4.5, 4.9, 5.9, 8.9]\n",
    "#Total amount of clicks per day\n",
    "y = [48.2, 63.0, 89.0, 71.0, 89.0, 82.2, 70.0, 80.0, 150.0]"
   ]
  },
  {
   "cell_type": "code",
   "execution_count": 215,
   "outputs": [],
   "source": [
    "def h_poly(x, a = 1, b = 5, c = 50.0):\n",
    "    return a*x**2 + b*x + c\n",
    "\n",
    "def h_linear(x, b = 9, a = 40):\n",
    "    return b*x + a"
   ],
   "metadata": {
    "collapsed": false,
    "pycharm": {
     "name": "#%%\n"
    }
   }
  },
  {
   "cell_type": "code",
   "execution_count": 216,
   "outputs": [
    {
     "data": {
      "text/plain": "[<matplotlib.lines.Line2D at 0x1b9f2319c10>]"
     },
     "execution_count": 216,
     "metadata": {},
     "output_type": "execute_result"
    },
    {
     "data": {
      "text/plain": "<Figure size 432x288 with 1 Axes>",
      "image/png": "[encoded data removed]"
     },
     "metadata": {
      "needs_background": "light"
     },
     "output_type": "display_data"
    }
   ],
   "source": [
    "from matplotlib import pyplot as plt\n",
    "\n",
    "plt.axis([0, 10, 0, 200])\n",
    "plt.scatter(x, y)\n",
    "\n",
    "regression_line = [h_linear(item) for item in x]\n",
    "regression_line_poly = [h_poly(item) for item in x]\n",
    "plt.plot(x,regression_line)\n",
    "plt.plot(x,regression_line_poly)\n"
   ],
   "metadata": {
    "collapsed": false,
    "pycharm": {
     "name": "#%%\n"
    }
   }
  },
  {
   "cell_type": "code",
   "execution_count": 217,
   "outputs": [
    {
     "name": "stdout",
     "output_type": "stream",
     "text": [
      "2304.319999999999\n"
     ]
    }
   ],
   "source": [
    "def Sum_Of_Squares(list_one, list_two, hFunc):\n",
    "\n",
    "    return sum([(hFunc(number_one) - number_two)**2\n",
    "                for number_one, number_two\n",
    "                in zip(list_one, list_two)])\n",
    "\n",
    "print(Sum_Of_Squares(x, y, h_linear))"
   ],
   "metadata": {
    "collapsed": false,
    "pycharm": {
     "name": "#%%\n"
    }
   }
  },
  {
   "cell_type": "code",
   "execution_count": 218,
   "outputs": [
    {
     "name": "stdout",
     "output_type": "stream",
     "text": [
      "18.941880699773307\n",
      "16.00111107253354\n"
     ]
    }
   ],
   "source": [
    "from math import sqrt\n",
    "\n",
    "def RMSE(list_one, list_two, hFunc):\n",
    "    return sqrt(Sum_Of_Squares(list_one,list_two, hFunc)/len(list_one))\n",
    "\n",
    "print(RMSE(x,y,h_poly))\n",
    "print(RMSE(x,y,h_linear))"
   ],
   "metadata": {
    "collapsed": false,
    "pycharm": {
     "name": "#%%\n"
    }
   }
  }
 ],
 "metadata": {
  "kernelspec": {
   "display_name": "Python 3",
   "language": "python",
   "name": "python3"
  },
  "language_info": {
   "codemirror_mode": {
    "name": "ipython",
    "version": 2
   },
   "file_extension": ".py",
   "mimetype": "text/x-python",
   "name": "python",
   "nbconvert_exporter": "python",
   "pygments_lexer": "ipython2",
   "version": "2.7.6"
  }
 },
 "nbformat": 4,
 "nbformat_minor": 0
}