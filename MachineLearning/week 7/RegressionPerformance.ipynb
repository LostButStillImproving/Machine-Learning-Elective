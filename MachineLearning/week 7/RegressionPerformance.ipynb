{
 "cells": [
  {
   "cell_type": "code",
   "execution_count": 36,
   "metadata": {
    "collapsed": true,
    "pycharm": {
     "name": "#%%\n"
    }
   },
   "outputs": [],
   "source": [
    "#Cost per click of individual keywords\n",
    "x = [1.0, 2.1, 2.3, 2.5, 4.1, 4.5, 4.9, 5.9, 8.9]\n",
    "#Total amount of clicks per day\n",
    "y = [48.2, 63.0, 89.0, 71.0, 89.0, 82.2, 70.0, 80.0, 150.0]"
   ]
  },
  {
   "cell_type": "code",
   "execution_count": 37,
   "outputs": [
    {
     "name": "stdout",
     "output_type": "stream",
     "text": [
      "58\n"
     ]
    }
   ],
   "source": [
    "b = 9 # try later 8 9 9.8\n",
    "a = 40 # try later 50 40 44.5\n",
    "def h(x):\n",
    "    return b*x + a\n",
    "print(h(2))"
   ],
   "metadata": {
    "collapsed": false,
    "pycharm": {
     "name": "#%%\n"
    }
   }
  },
  {
   "cell_type": "code",
   "execution_count": 38,
   "outputs": [
    {
     "data": {
      "text/plain": "[<matplotlib.lines.Line2D at 0x2786b824700>]"
     },
     "execution_count": 38,
     "metadata": {},
     "output_type": "execute_result"
    },
    {
     "data": {
      "text/plain": "<Figure size 432x288 with 1 Axes>",
      "image/png": "[encoded data removed]"
     },
     "metadata": {
      "needs_background": "light"
     },
     "output_type": "display_data"
    }
   ],
   "source": [
    "from matplotlib import pyplot as plt\n",
    "\n",
    "plt.axis([0, 10, 0, 200])\n",
    "plt.scatter(x, y)\n",
    "regression_line = [h(item)for item in [0, 10]]\n",
    "plt.plot([0, 10],regression_line)\n"
   ],
   "metadata": {
    "collapsed": false,
    "pycharm": {
     "name": "#%%\n"
    }
   }
  },
  {
   "cell_type": "code",
   "execution_count": 39,
   "outputs": [],
   "source": [
    "def Sum_Of_Squares(list_one, list_two, hFunc):\n",
    "\n",
    "    return sum([(hFunc(number_one) - number_two)**2 for number_one, number_two in zip(list_one, list_two)])\n",
    "\n"
   ],
   "metadata": {
    "collapsed": false,
    "pycharm": {
     "name": "#%%\n"
    }
   }
  },
  {
   "cell_type": "code",
   "execution_count": 40,
   "outputs": [
    {
     "name": "stdout",
     "output_type": "stream",
     "text": [
      "2304.319999999999\n"
     ]
    }
   ],
   "source": [
    "result = Sum_Of_Squares(x, y, h)\n",
    "print(result)"
   ],
   "metadata": {
    "collapsed": false,
    "pycharm": {
     "name": "#%%\n"
    }
   }
  },
  {
   "cell_type": "code",
   "execution_count": 42,
   "outputs": [
    {
     "name": "stdout",
     "output_type": "stream",
     "text": [
      "16.00111107253354\n"
     ]
    }
   ],
   "source": [
    "from math import sqrt\n",
    "\n",
    "\n",
    "def RMSE(list_one, list_two, hFunc):\n",
    "    return sqrt(Sum_Of_Squares(list_one,list_two, hFunc)/len(list_one))\n",
    "\n",
    "print(RMSE(x,y,h))"
   ],
   "metadata": {
    "collapsed": false,
    "pycharm": {
     "name": "#%%\n"
    }
   }
  }
 ],
 "metadata": {
  "kernelspec": {
   "display_name": "Python 3",
   "language": "python",
   "name": "python3"
  },
  "language_info": {
   "codemirror_mode": {
    "name": "ipython",
    "version": 2
   },
   "file_extension": ".py",
   "mimetype": "text/x-python",
   "name": "python",
   "nbconvert_exporter": "python",
   "pygments_lexer": "ipython2",
   "version": "2.7.6"
  }
 },
 "nbformat": 4,
 "nbformat_minor": 0
}