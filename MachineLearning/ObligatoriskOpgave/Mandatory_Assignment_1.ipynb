{
 "cells": [
  {
   "cell_type": "markdown",
   "metadata": {
    "collapsed": true,
    "pycharm": {
     "name": "#%% md\n"
    }
   },
   "source": [
    "# Table of Contents\n",
    "[<b>Step 1: Look at the big picture and frame the problem</b>](#a1)<br>\n",
    "&nbsp;&nbsp;&nbsp;&nbsp;&nbsp;&nbsp;    [Step 1.1: Solution](#a1.1s)<br>\n",
    "&nbsp;&nbsp;&nbsp;&nbsp;&nbsp;&nbsp;    [Step 1.2: Solution](#a1.2s)<br>\n",
    "&nbsp;&nbsp;&nbsp;&nbsp;&nbsp;&nbsp;    [Step 1.3: Solution](#a1.3s)<br>\n",
    "&nbsp;&nbsp;&nbsp;&nbsp;&nbsp;&nbsp;    [Step 1.4: Solution](#a1.4s)<br>\n",
    "&nbsp;&nbsp;&nbsp;&nbsp;&nbsp;&nbsp;    [Step 1.5: Solution](#a1.5s)<br>\n",
    "&nbsp;&nbsp;&nbsp;&nbsp;&nbsp;&nbsp;    [Step 1.6: Solution](#a1.6s)<br>\n",
    "&nbsp;&nbsp;&nbsp;&nbsp;&nbsp;&nbsp;    [Step 1.7: Solution](#a1.7s)<br>\n",
    "&nbsp;&nbsp;&nbsp;&nbsp;&nbsp;&nbsp;    [Step 1.8: Solution](#a1.8s)<br>\n",
    "&nbsp;&nbsp;&nbsp;&nbsp;&nbsp;&nbsp;    [Step 1.9: Solution](#a1.9s)<br>\n",
    "&nbsp;&nbsp;&nbsp;&nbsp;&nbsp;&nbsp;    [Step 1.10: Solution](#a1.10s)<br>\n",
    "&nbsp;&nbsp;&nbsp;&nbsp;&nbsp;&nbsp;    [Step 1.11: Solution](#a1.11s)<br>\n",
    "[<b>Step 2: Get the data</b>](#a2)<br>\n",
    "&nbsp;&nbsp;&nbsp;&nbsp;&nbsp;&nbsp;    [Step 2.1: Solution](#a2.1s)<br>\n",
    "&nbsp;&nbsp;&nbsp;&nbsp;&nbsp;&nbsp;    [Step 2.2: Solution](#a2.2s)<br>\n",
    "&nbsp;&nbsp;&nbsp;&nbsp;&nbsp;&nbsp;    [Step 2.3: Solution](#a2.3s)<br>\n",
    "&nbsp;&nbsp;&nbsp;&nbsp;&nbsp;&nbsp;    [Step 2.4: Solution](#a2.4s)<br>\n",
    "&nbsp;&nbsp;&nbsp;&nbsp;&nbsp;&nbsp;    [Step 2.5: Solution](#a2.5s)<br>\n",
    "&nbsp;&nbsp;&nbsp;&nbsp;&nbsp;&nbsp;    [Step 2.6: Solution](#a2.6s)<br>\n",
    "&nbsp;&nbsp;&nbsp;&nbsp;&nbsp;&nbsp;    [Step 2.7: Solution](#a2.7s)<br>\n",
    "&nbsp;&nbsp;&nbsp;&nbsp;&nbsp;&nbsp;    [Step 2.8: Solution](#a2.8s)<br>\n",
    "&nbsp;&nbsp;&nbsp;&nbsp;&nbsp;&nbsp;    [Step 2.9: Solution](#a2.9s)<br>\n",
    "&nbsp;&nbsp;&nbsp;&nbsp;&nbsp;&nbsp;    [Step 2.10: Solution](#a2.10s)<br>\n",
    "&nbsp;&nbsp;&nbsp;&nbsp;&nbsp;&nbsp;    [Step 2.11: Solution](#a2.11s)<br>\n",
    "[<b>Step 3: Explore the data</b>](#a2)<br>\n",
    "&nbsp;&nbsp;&nbsp;&nbsp;&nbsp;&nbsp;    [Step 3.1: Solution](#a3.1s)<br>\n",
    "&nbsp;&nbsp;&nbsp;&nbsp;&nbsp;&nbsp;    [Step 3.2: Solution](#a3.2s)<br>\n",
    "&nbsp;&nbsp;&nbsp;&nbsp;&nbsp;&nbsp;    [Step 3.3: Solution](#a3.3s)<br>\n",
    "&nbsp;&nbsp;&nbsp;&nbsp;&nbsp;&nbsp;    [Step 3.4: Solution](#a3.4s)<br>\n",
    "&nbsp;&nbsp;&nbsp;&nbsp;&nbsp;&nbsp;    [Step 3.5: Solution](#a3.5s)<br>\n",
    "&nbsp;&nbsp;&nbsp;&nbsp;&nbsp;&nbsp;    [Step 3.6: Solution](#a3.6s)<br>\n",
    "&nbsp;&nbsp;&nbsp;&nbsp;&nbsp;&nbsp;    [Step 3.7: Solution](#a3.7s)<br>\n",
    "&nbsp;&nbsp;&nbsp;&nbsp;&nbsp;&nbsp;    [Step 3.8: Solution](#a3.8s)<br>\n",
    "&nbsp;&nbsp;&nbsp;&nbsp;&nbsp;&nbsp;    [Step 3.9: Solution](#a3.9s)<br>\n",
    "&nbsp;&nbsp;&nbsp;&nbsp;&nbsp;&nbsp;    [Step 3.10: Solution](#a3.10s)<br>\n",
    "&nbsp;&nbsp;&nbsp;&nbsp;&nbsp;&nbsp;    [Step 3.11: Solution](#a3.11s)<br>"
   ]
  },
  {
   "cell_type": "markdown",
   "source": [
    "#### <u>Step 1: Look at the big picture and frame the problem</u> <a id=\"a1\"></a>\n",
    "<ol>\n",
    "<li>Define the objective in business terms.</li>\n",
    "<li>How shall your solution be used?</li>\n",
    "<li>N/A. What are the current solutions/workarounds (if any)?</li>\n",
    "<li>How should you frame this problem (supervised/unsupervised, online/offline, etc.)?</li>\n",
    "<li>How should performance be measured?</li>\n",
    "<li>Is the performance measure aligned with the business objective?</li>\n",
    "<li>N/A. What would be the minimum performance needed to reach the business objective?</li>\n",
    "<li>What are comparable problems? Can you reuse experience (of course YES) or tools?</li>\n",
    "<li>N/A. Is human expertise available?</li>\n",
    "<li>N/A. How would you solve the problem manually?</li>\n",
    "<li>List the assumptions you (or others) have made so far</li>\n",
    "</ol>"
   ],
   "metadata": {
    "collapsed": false
   }
  },
  {
   "cell_type": "markdown",
   "source": [
    "#### <u>Step 1.1: Solution</u> <a id=\"a1.1s\"></a>\n"
   ],
   "metadata": {
    "collapsed": false
   }
  },
  {
   "cell_type": "markdown",
   "source": [
    "#### <u>Step 2: Get the data</u> <a id=\"a2\"></a>\n",
    "The data is the 50_Startups.csv file at the teachers home page.\n",
    "<ol>\n",
    "<li>N/A. List the data you need and how much you need.</li>\n",
    "<li>N/A. Find and document where you can get that data.</li>\n",
    "<li>Check out how much space it requires. (Well its super small )</li>\n",
    "<li>N/A. Check legal obligations, and get authorization if necessary.</li>\n",
    "<li>N/A. Get access authorizations.</li>\n",
    "<li>Create a workspace (with enough storage space) at your PC for the program and data set,</li>\n",
    "<li>Get the data.</li>\n",
    "<li>N/A. Convert the data to a format you can easily manipulate (without changing the data itself). It’s already good, already.</li>\n",
    "<li>N/A. Ensure sensitive information is deleted or protected (e.g., anonymized).\n",
    "Mandatory project: ML Startsups 4th Semester- Autumn 2021\n",
    "Side 4 af 8</li>\n",
    "<li>Check the size and type of data (time series, sample, geographical, etc.).\n",
    "Just use “Notepad”.</li>\n",
    "<li><i>Document what you have learned.</i></li>\n",
    "</ol>"
   ],
   "metadata": {
    "collapsed": false,
    "pycharm": {
     "name": "#%% md\n"
    }
   }
  },
  {
   "cell_type": "markdown",
   "source": [
    "#### <u>Step 2.1: Solution</u> <a id=\"a2.1s\"></a>\n",
    "<h1>N/A.</h1>"
   ],
   "metadata": {
    "collapsed": false
   }
  },
  {
   "cell_type": "markdown",
   "source": [
    "#### <u>Step 2.2: Solution</u> <a id=\"a2.2s\"></a>\n",
    "<h1>N/A.</h1>"
   ],
   "metadata": {
    "collapsed": false
   }
  },
  {
   "cell_type": "markdown",
   "source": [
    "#### <u>Step 2.3: Solution</u> <a id=\"a2.3s\"></a>\n",
    "<img src=\"https://i.imgur.com/8rWyt9D.png\"><br/>\n",
    "as we can see in this image file, the data file itself is 3KB\n",
    "and the small python import script is 1KB"
   ],
   "metadata": {
    "collapsed": false
   }
  },
  {
   "cell_type": "markdown",
   "source": [
    "#### <u>Step 2.4: Solution</u> <a id=\"a2.4s\"></a>\n",
    "<h1>N/A.</h1>"
   ],
   "metadata": {
    "collapsed": false
   }
  },
  {
   "cell_type": "markdown",
   "source": [
    "#### <u>Step 2.5: Solution</u> <a id=\"a2.5s\"></a>\n",
    "<h1>N/A.</h1>"
   ],
   "metadata": {
    "collapsed": false
   }
  },
  {
   "cell_type": "markdown",
   "source": [
    "#### <u>Step 2.6: Solution</u> <a id=\"a2.6s\"></a>\n",
    "We have set up a workspace containing our jupyter worksheet as well as the 2 files included in the assignment\n",
    "the 2 files are located in the Data folder. Our workspace structure can be seen in the picture below: <br/>\n",
    "<img src=\"https://i.imgur.com/PAVXiLZ.png\">"
   ],
   "metadata": {
    "collapsed": false
   }
  },
  {
   "cell_type": "markdown",
   "source": [
    "#### <u>Step 2.7: Solution</u> <a id=\"a2.7s\"></a>\n",
    "to import the dataset we simply run the script included with the data file after specifying our data directory:"
   ],
   "metadata": {
    "collapsed": false
   }
  },
  {
   "cell_type": "code",
   "execution_count": 232,
   "outputs": [],
   "source": [
    "import pandas as pd\n",
    "\n",
    "#Importing the dataset\n",
    "dataset = pd.read_csv('50_Startups.csv')\n",
    "X = dataset.iloc[:, :-1].values\n",
    "y = dataset.iloc[:, 4].values"
   ],
   "metadata": {
    "collapsed": false,
    "pycharm": {
     "name": "#%%\n"
    }
   }
  },
  {
   "cell_type": "markdown",
   "source": [
    "#### <u>Step 2.8: Solution</u> <a id=\"a2.8s\"></a>\n",
    "<h1>N/A.</h1>"
   ],
   "metadata": {
    "collapsed": false
   }
  },
  {
   "cell_type": "markdown",
   "source": [
    "#### <u>Step 2.9: Solution</u> <a id=\"a2.9s\"></a>\n",
    "<h1>N/A.</h1>"
   ],
   "metadata": {
    "collapsed": false
   }
  },
  {
   "cell_type": "markdown",
   "source": [
    "#### <u>Step 2.10: Solution</u> <a id=\"a2.10s\"></a>\n",
    "to check the size of the dataset we can simply do:"
   ],
   "metadata": {
    "collapsed": false
   }
  },
  {
   "cell_type": "code",
   "execution_count": 233,
   "outputs": [
    {
     "data": {
      "text/plain": "50"
     },
     "execution_count": 233,
     "metadata": {},
     "output_type": "execute_result"
    }
   ],
   "source": [
    "len(dataset.index)"
   ],
   "metadata": {
    "collapsed": false,
    "pycharm": {
     "name": "#%%\n"
    }
   }
  },
  {
   "cell_type": "markdown",
   "source": [
    "as we can see the \"size\" or the \"number of observations\" in our dataset is 50 observations\n",
    "\n",
    "(this could also be done in notepad by seeing the 51 lines of text, minus the one line for the header.)"
   ],
   "metadata": {
    "collapsed": false
   }
  },
  {
   "cell_type": "markdown",
   "source": [
    "and if we check the datatypes: (time series, sample, geographical, etc.)."
   ],
   "metadata": {
    "collapsed": false,
    "pycharm": {
     "name": "#%% md\n"
    }
   }
  },
  {
   "cell_type": "code",
   "execution_count": 234,
   "outputs": [
    {
     "name": "stdout",
     "output_type": "stream",
     "text": [
      "   R&D Spend  Administration  Marketing Spend       State     Profit\n",
      "0  165349.20       136897.80        471784.10    New York  192261.83\n",
      "1  162597.70       151377.59        443898.53  California  191792.06\n",
      "2  153441.51       101145.55        407934.54     Florida  191050.39\n",
      "3  144372.41       118671.85        383199.62    New York  182901.99\n",
      "4  142107.34        91391.77        366168.42     Florida  166187.94\n",
      "\n",
      "           R&D Spend  Administration  Marketing Spend         Profit\n",
      "count      50.000000       50.000000        50.000000      50.000000\n",
      "mean    73721.615600   121344.639600    211025.097800  112012.639200\n",
      "std     45902.256482    28017.802755    122290.310726   40306.180338\n",
      "min         0.000000    51283.140000         0.000000   14681.400000\n",
      "25%     39936.370000   103730.875000    129300.132500   90138.902500\n",
      "50%     73051.080000   122699.795000    212716.240000  107978.190000\n",
      "75%    101602.800000   144842.180000    299469.085000  139765.977500\n",
      "max    165349.200000   182645.560000    471784.100000  192261.830000\n"
     ]
    }
   ],
   "source": [
    "print(dataset.head())\n",
    "print(\"\")\n",
    "print(dataset.describe())"
   ],
   "metadata": {
    "collapsed": false,
    "pycharm": {
     "name": "#%%\n"
    }
   }
  },
  {
   "cell_type": "markdown",
   "source": [
    "#### <u>Step 2.11: Solution</u> <a id=\"a2.11s\"></a>\n",
    "We have learned that:\n",
    "\n",
    "the dataset contains the following features:\n",
    "    - R&D Spend\n",
    "    - Administration\n",
    "    - Marketing Spend\n",
    "    - State\n",
    "\n",
    "The dataset contains the following labels:\n",
    "    - Profit\n",
    "\n",
    "The dataset has 50 observations of 5 variables\n"
   ],
   "metadata": {
    "collapsed": false,
    "pycharm": {
     "name": "#%% md\n"
    }
   }
  },
  {
   "cell_type": "markdown",
   "source": [
    "#### <u>Step 3: Explore the data</u> <a id=\"a3\"></a><ol>\n",
    "You are now ready to make a Jupyter program for exploring the data.\n",
    "Remember your experience from the investigation of “Housing” in Chapter 2..\n",
    "<br>\n",
    "<ol>\n",
    "    <li>Create a copy of the data for exploration (N/A. sampling it down to a manageable size if\n",
    "    necessary).</li>\n",
    "    <li>Create a Jupyter notebook to keep a record of your data exploration.\n",
    "    A copy and paste and changes of the Housing is not illegal </li>\n",
    "    <li>Study each attribute and its characteristics:</li>\n",
    "        <ul>\n",
    "            <li>Name</li>\n",
    "            <li>Type (categorical, int/float, bounded/unbounded, text, structured, etc.)</li>\n",
    "            <li>% of missing values</li>\n",
    "            <li>N/A. Noisiness and type of noise (stochastic, outliers, rounding errors, etc.)</li>\n",
    "            <li>Usefulness for the task</li>\n",
    "            <li>Type of distribution (Gaussian, uniform, logarithmic, etc.)</li>\n",
    "            <li>Do a histogram for each attribute.</li>\n",
    "        </ul>\n",
    "    <li>For supervised learning tasks, identify the target attribute(s); i.e. the label(s).</li>\n",
    "    <li>Discover and visualize the data by scatter plots for each numerical attribute.</li>\n",
    "    <li>Study the correlations between attributes. <br>Make also a scatter matrix plot</li>\n",
    "    <li>N/A. Study how you would solve the problem manually.</li>\n",
    "    <li>Experiment with attribute combinations.</li>\n",
    "    <li>Identify a new promising attribute you may want to apply, if any.</li>\n",
    "    <li>N/A. Identify extra data that would be useful (go back to “Get the Data”).</li>\n",
    "    <li> Create a test set, put it aside, and never look at it (no data snooping!).\n",
    "    A problem here is that the data set is small. How much do you want in the test set…\n",
    "    <br>\n",
    "    <i>Remember stratified….</i>\n",
    "    <br>\n",
    "    <b>Note.</b> This would normally be done earlier, but the data size is so small.</li>\n",
    "    <li><i>Document your work.</i></li>\n",
    "</ol>"
   ],
   "metadata": {
    "collapsed": false
   }
  },
  {
   "cell_type": "markdown",
   "source": [
    "#### <u>Step 3.1: Solution</u> <a id=\"a3.1s\"></a>"
   ],
   "metadata": {
    "collapsed": false
   }
  },
  {
   "cell_type": "code",
   "execution_count": 235,
   "outputs": [
    {
     "data": {
      "text/plain": "   R&D Spend  Administration  Marketing Spend     Profit\n0  165349.20       136897.80        471784.10  192261.83\n1  162597.70       151377.59        443898.53  191792.06\n2  153441.51       101145.55        407934.54  191050.39\n3  144372.41       118671.85        383199.62  182901.99\n4  142107.34        91391.77        366168.42  166187.94",
      "text/html": "<div>\n<style scoped>\n    .dataframe tbody tr th:only-of-type {\n        vertical-align: middle;\n    }\n\n    .dataframe tbody tr th {\n        vertical-align: top;\n    }\n\n    .dataframe thead th {\n        text-align: right;\n    }\n</style>\n<table border=\"1\" class=\"dataframe\">\n  <thead>\n    <tr style=\"text-align: right;\">\n      <th></th>\n      <th>R&amp;D Spend</th>\n      <th>Administration</th>\n      <th>Marketing Spend</th>\n      <th>Profit</th>\n    </tr>\n  </thead>\n  <tbody>\n    <tr>\n      <th>0</th>\n      <td>165349.20</td>\n      <td>136897.80</td>\n      <td>471784.10</td>\n      <td>192261.83</td>\n    </tr>\n    <tr>\n      <th>1</th>\n      <td>162597.70</td>\n      <td>151377.59</td>\n      <td>443898.53</td>\n      <td>191792.06</td>\n    </tr>\n    <tr>\n      <th>2</th>\n      <td>153441.51</td>\n      <td>101145.55</td>\n      <td>407934.54</td>\n      <td>191050.39</td>\n    </tr>\n    <tr>\n      <th>3</th>\n      <td>144372.41</td>\n      <td>118671.85</td>\n      <td>383199.62</td>\n      <td>182901.99</td>\n    </tr>\n    <tr>\n      <th>4</th>\n      <td>142107.34</td>\n      <td>91391.77</td>\n      <td>366168.42</td>\n      <td>166187.94</td>\n    </tr>\n  </tbody>\n</table>\n</div>"
     },
     "execution_count": 235,
     "metadata": {},
     "output_type": "execute_result"
    }
   ],
   "source": [
    "datacopy = dataset.drop('State', axis=1).copy()\n",
    "datacopy.head()"
   ],
   "metadata": {
    "collapsed": false,
    "pycharm": {
     "name": "#%%\n"
    }
   }
  },
  {
   "cell_type": "markdown",
   "source": [
    "#### <u>Step 3.2: Solution</u> <a id=\"a3.2s\"></a>\n",
    "we are already working inside of a jupyter notebook, hence there is no need to make a new one"
   ],
   "metadata": {
    "collapsed": false
   }
  },
  {
   "cell_type": "markdown",
   "source": [
    "#### <u>Step 3.3: Solution</u> <a id=\"a3.3s\"></a>\n",
    "\n",
    "<b>the dataset has the following attributes:</b>\n",
    "<ul>\n",
    "<li>R&D Spend</li>\n",
    "<li>Administration</li>\n",
    "<li>Marketing Spend</li>\n",
    "<li>State</li>\n",
    "<li>Profit</li>\n",
    "</ul>\n",
    "\n",
    "<b>We will now set up a table for the types of each attribute to make it more manageable</b>\n",
    "\n",
    "<table>\n",
    "    <tr>\n",
    "        <th>attribute</th>\n",
    "        <th>categorical</th>\n",
    "        <th>int/float</th>\n",
    "        <th>bounded/unbounded</th>\n",
    "        <th>text</th>\n",
    "        <th>structured</th>\n",
    "    </tr>\n",
    "    <tr>\n",
    "        <td>R&D Spend</td>\n",
    "        <td>costs</td>\n",
    "        <td>float</td>\n",
    "        <td>unbounded</td>\n",
    "        <td>&nbsp;&nbsp;✗</td>\n",
    "        <td>&nbsp;&nbsp;&nbsp;&nbsp;&nbsp;&nbsp;&nbsp;&nbsp;✓</td>\n",
    "    </tr>\n",
    "    <tr>\n",
    "        <td>Administration</td>\n",
    "        <td>costs</td>\n",
    "        <td>float</td>\n",
    "        <td>unbounded</td>\n",
    "        <td>&nbsp;&nbsp;✗</td>\n",
    "        <td>&nbsp;&nbsp;&nbsp;&nbsp;&nbsp;&nbsp;&nbsp;&nbsp;✓</td>\n",
    "  </tr>\n",
    "      <tr>\n",
    "        <td>State</td>\n",
    "        <td>location</td>\n",
    "        <td>&nbsp;&nbsp;&nbsp;&nbsp;&nbsp;✗</td>\n",
    "        <td>&nbsp;&nbsp;&nbsp;&nbsp;&nbsp;&nbsp;&nbsp;&nbsp;\n",
    "        &nbsp;&nbsp;&nbsp;&nbsp;&nbsp;&nbsp;&nbsp;&nbsp;\n",
    "        ✗</td>\n",
    "        <td>&nbsp;&nbsp;✓</td>\n",
    "        <td>&nbsp;&nbsp;&nbsp;&nbsp;&nbsp;&nbsp;&nbsp;&nbsp;✗</td>\n",
    "  </tr>\n",
    "        <td>Marketing Spend</td>\n",
    "        <td>costs</td>\n",
    "        <td>float</td>\n",
    "        <td>unbounded</td>\n",
    "        <td>&nbsp;&nbsp;✗</td>\n",
    "        <td>&nbsp;&nbsp;&nbsp;&nbsp;&nbsp;&nbsp;&nbsp;&nbsp;✓</td>\n",
    "  </tr>\n",
    "      <tr>\n",
    "        <td>Profit</td>\n",
    "        <td>income</td>\n",
    "        <td>float</td>\n",
    "        <td>unbounded</td>\n",
    "        <td>&nbsp;&nbsp;✗</td>\n",
    "        <td>&nbsp;&nbsp;&nbsp;&nbsp;&nbsp;&nbsp;&nbsp;&nbsp;✓</td>\n",
    "  </tr>\n",
    "</table>\n",
    "\n",
    "<b>next up is % of missing values</b>\n",
    "\n",
    "we will find the percentages using python\n",
    "first off we will format all missing datapoints to be NA so it is easier to do a missing value check:"
   ],
   "metadata": {
    "collapsed": false
   }
  },
  {
   "cell_type": "code",
   "execution_count": 236,
   "outputs": [
    {
     "data": {
      "text/plain": "['R&D Spend', 'Administration', 'Marketing Spend', 'Profit']"
     },
     "execution_count": 236,
     "metadata": {},
     "output_type": "execute_result"
    }
   ],
   "source": [
    "attributes = datacopy.columns.tolist()\n",
    "\n",
    "for attribute in attributes:\n",
    "    datacopy[attribute] = datacopy[attribute].replace(0.00,pd.NA)\n",
    "attributes"
   ],
   "metadata": {
    "collapsed": false,
    "pycharm": {
     "name": "#%%\n"
    }
   }
  },
  {
   "cell_type": "markdown",
   "source": [
    "Next we will find the actual percentages:"
   ],
   "metadata": {
    "collapsed": false
   }
  },
  {
   "cell_type": "code",
   "execution_count": 237,
   "outputs": [
    {
     "name": "stdout",
     "output_type": "stream",
     "text": [
      "R&D Spend has 4.0% missing datapoints\n",
      "\n",
      "Administration has 0.0% missing datapoints\n",
      "\n",
      "Marketing Spend has 6.0% missing datapoints\n",
      "\n",
      "Profit has 0.0% missing datapoints\n",
      "\n"
     ]
    }
   ],
   "source": [
    "for attribute in attributes:\n",
    "    percentage = datacopy[attribute].isnull().sum()/len(datacopy[attribute])*100\n",
    "\n",
    "    print(str(attribute) + \" has \" + str(percentage) + \"% missing datapoints\\n\" )"
   ],
   "metadata": {
    "collapsed": false,
    "pycharm": {
     "name": "#%%\n"
    }
   }
  },
  {
   "cell_type": "markdown",
   "source": [
    "We can thereby see that R&D Spend has 4.0% missing datapoints\n",
    "\n",
    "and that Marketing Spend has 6.0% missing datapoints\n",
    "\n",
    "<br>\n",
    "\n",
    "<b>Noise:</b>\n",
    "<h1>N/A.</h1>\n",
    "\n",
    "\n",
    "<b>next we can check Usefulness for the task !!!!!!!!!!!!!!!!!!!!!!!!!!!!!!!!!!!!!!!!!!!!!!!!!!!!!!!!!!!!!!!!!!!!!!!!!!!!!!!!!!!!!!!!!!!!!!!!!!!!!!</b>\n",
    "\n",
    "<b>Type of distribution (Gaussian, uniform, logarithmic, etc.)</b>"
   ],
   "metadata": {
    "collapsed": false
   }
  },
  {
   "cell_type": "code",
   "execution_count": 238,
   "outputs": [],
   "source": [
    "import scipy.stats as st\n",
    "def get_best_distribution(data):\n",
    "    dist_names = ['gamma', 'beta', 'norm', 'pareto', 'invgauss']\n",
    "    dist_results = []\n",
    "    params = {}\n",
    "    for dist_name in dist_names:\n",
    "        dist = getattr(st, dist_name)\n",
    "        param = dist.fit(data)\n",
    "\n",
    "        params[dist_name] = param\n",
    "        d, p = st.kstest(data, dist_name, args=param)\n",
    "        dist_results.append((dist_name, p))\n",
    "\n",
    "    best_dist, best_p = (max(dist_results, key=lambda item: item[1]))\n",
    "\n",
    "    return best_dist, best_p, params[best_dist]"
   ],
   "metadata": {
    "collapsed": false,
    "pycharm": {
     "name": "#%%\n"
    }
   }
  },
  {
   "cell_type": "code",
   "execution_count": 239,
   "outputs": [
    {
     "name": "stderr",
     "output_type": "stream",
     "text": [
      "C:\\Users\\dnielsen\\anaconda3\\lib\\site-packages\\scipy\\stats\\_distn_infrastructure.py:2606: RuntimeWarning: invalid value encountered in double_scalars\n",
      "  Lhat = muhat - Shat*mu\n",
      "C:\\Users\\dnielsen\\anaconda3\\lib\\site-packages\\scipy\\stats\\_continuous_distns.py:639: RuntimeWarning: invalid value encountered in sqrt\n",
      "  sk = 2*(b-a)*np.sqrt(a + b + 1) / (a + b + 2) / np.sqrt(a*b)\n"
     ]
    },
    {
     "name": "stdout",
     "output_type": "stream",
     "text": [
      "R&D Spend is best fitted with a ('gamma', 0.8919844255407596, (47.66233913235425, -239375.7180789318, 6563.750058327867)) distribution \n",
      "\n",
      "Administration is best fitted with a ('beta', 0.9617333703647903, (377.4866323591043, 15.391806410090716, -2604688.6415276844, 2837183.583877201)) distribution \n",
      "\n",
      "Marketing Spend is best fitted with a ('norm', 0.8282902838558235, (211025.09780000002, 121061.23118271725)) distribution \n",
      "\n",
      "Profit is best fitted with a ('gamma', 0.8284819413526889, (7500.627408423683, -3343742.0595118664, 460.72841186793653)) distribution \n",
      "\n"
     ]
    }
   ],
   "source": [
    "\n",
    "\n",
    "for attribute in attributes:\n",
    "    try:\n",
    "        print(str(attribute) + \" is best fitted with a \" + str(get_best_distribution(dataset[attribute])) + \" distribution \\n\")\n",
    "    except:\n",
    "        print(\"An exception occurred\")"
   ],
   "metadata": {
    "collapsed": false,
    "pycharm": {
     "name": "#%%\n"
    }
   }
  },
  {
   "cell_type": "markdown",
   "source": [
    "Thereby we can see that the attributes have the following distributions\n",
    "<ul>\n",
    "<li>R&D Spend: Gamma distributed</li>\n",
    "<li>Administration: Beta distributed</li>\n",
    "<li>Marketing Spend: Normal distributed</li>\n",
    "<li>State: non numeric</li>\n",
    "<li>Profit: Gamma distributed</li>\n",
    "</ul>"
   ],
   "metadata": {
    "collapsed": false
   }
  },
  {
   "cell_type": "markdown",
   "source": [
    "<b>Finally the histograms for each attribute</b>"
   ],
   "metadata": {
    "collapsed": false
   }
  },
  {
   "cell_type": "code",
   "execution_count": 240,
   "outputs": [
    {
     "data": {
      "text/plain": "<Figure size 432x288 with 1 Axes>",
      "image/png": "[encoded data removed]"
     },
     "metadata": {
      "needs_background": "light"
     },
     "output_type": "display_data"
    },
    {
     "data": {
      "text/plain": "<Figure size 432x288 with 1 Axes>",
      "image/png": "[encoded data removed]"
     },
     "metadata": {
      "needs_background": "light"
     },
     "output_type": "display_data"
    },
    {
     "data": {
      "text/plain": "<Figure size 432x288 with 1 Axes>",
      "image/png": "[encoded data removed]"
     },
     "metadata": {
      "needs_background": "light"
     },
     "output_type": "display_data"
    },
    {
     "data": {
      "text/plain": "<Figure size 432x288 with 1 Axes>",
      "image/png": "[encoded data removed]"
     },
     "metadata": {
      "needs_background": "light"
     },
     "output_type": "display_data"
    }
   ],
   "source": [
    "import matplotlib.pyplot as plt\n",
    "\n",
    "for attribute in attributes:\n",
    "    _, ax = plt.subplots(1, 1)\n",
    "    ax.hist(dataset[attribute])\n",
    "    ax.set_xlabel(attribute)\n",
    "    plt.show()"
   ],
   "metadata": {
    "collapsed": false,
    "pycharm": {
     "name": "#%%\n"
    }
   }
  },
  {
   "cell_type": "markdown",
   "source": [
    "#### <u>Step 3.4: Solution</u> <a id=\"a3.4s\"></a>"
   ],
   "metadata": {
    "collapsed": false,
    "pycharm": {
     "name": "#%% md\n"
    }
   }
  },
  {
   "cell_type": "markdown",
   "source": [
    "#### <u>Step 3.5: Solution</u> <a id=\"a3.5s\"></a>"
   ],
   "metadata": {
    "collapsed": false
   }
  },
  {
   "cell_type": "code",
   "execution_count": 241,
   "outputs": [
    {
     "data": {
      "text/plain": "<Figure size 432x288 with 1 Axes>",
      "image/png": "[encoded data removed]"
     },
     "metadata": {
      "needs_background": "light"
     },
     "output_type": "display_data"
    },
    {
     "data": {
      "text/plain": "<Figure size 432x288 with 1 Axes>",
      "image/png": "[encoded data removed]"
     },
     "metadata": {
      "needs_background": "light"
     },
     "output_type": "display_data"
    },
    {
     "data": {
      "text/plain": "<Figure size 432x288 with 1 Axes>",
      "image/png": "[encoded data removed]"
     },
     "metadata": {
      "needs_background": "light"
     },
     "output_type": "display_data"
    }
   ],
   "source": [
    "import matplotlib.pyplot as plt\n",
    "\n",
    "for attribute in attributes:\n",
    "    if attribute == \"Profit\": continue\n",
    "    _, ax = plt.subplots(1, 1)\n",
    "    ax.scatter(dataset[attribute], dataset[\"Profit\"])\n",
    "    ax.set_xlabel(attribute)\n",
    "plt.show()"
   ],
   "metadata": {
    "collapsed": false,
    "pycharm": {
     "name": "#%%\n"
    }
   }
  },
  {
   "cell_type": "markdown",
   "source": [
    "#### <u>Step 3.6: Solution</u> <a id=\"a3.6s\"></a>\n",
    "correlations !!!!!!!!!!!!!!!!!!!!!!!!!!!!!!!!!!!!!!!!!!!!!!!!!!!!!!!!!!!!!!!!!!!!!!!!!!!!!!\n",
    "\n",
    "correlation matrix plot:"
   ],
   "metadata": {
    "collapsed": false
   }
  },
  {
   "cell_type": "code",
   "execution_count": 242,
   "outputs": [
    {
     "data": {
      "text/plain": "Profit             1.000000\nR&D Spend          0.972900\nMarketing Spend    0.747766\nAdministration     0.200717\nName: Profit, dtype: float64"
     },
     "execution_count": 242,
     "metadata": {},
     "output_type": "execute_result"
    },
    {
     "data": {
      "text/plain": "<Figure size 432x288 with 16 Axes>",
      "image/png": "[encoded data removed]"
     },
     "metadata": {
      "needs_background": "light"
     },
     "output_type": "display_data"
    }
   ],
   "source": [
    "pd.plotting.scatter_matrix(dataset, alpha=0.2)\n",
    "corr_matrix = dataset.corr()\n",
    "corr_matrix[\"Profit\"].sort_values(ascending=False)\n"
   ],
   "metadata": {
    "collapsed": false,
    "pycharm": {
     "name": "#%%\n"
    }
   }
  },
  {
   "cell_type": "markdown",
   "source": [
    "#### <u>Step 3.7: Solution</u> <a id=\"a3.7s\"></a>"
   ],
   "metadata": {
    "collapsed": false
   }
  },
  {
   "cell_type": "code",
   "execution_count": 243,
   "outputs": [],
   "source": [
    "from sklearn.model_selection import train_test_split\n",
    "import numpy as np\n",
    "\n",
    "for attribute in attributes:\n",
    "    datacopy[attribute] = datacopy[attribute].replace(1, np.NAN)\n",
    "\n"
   ],
   "metadata": {
    "collapsed": false,
    "pycharm": {
     "name": "#%%\n"
    }
   }
  },
  {
   "cell_type": "code",
   "execution_count": 244,
   "outputs": [],
   "source": [
    "import numpy as np\n",
    "from sklearn.base import BaseEstimator, TransformerMixin\n",
    "col_names = \"R&D Spend\", \"Marketing Spend\"\n",
    "rd_ix, marketing_ix = [\n",
    "    datacopy.columns.get_loc(c) for c in col_names] # get the column indices\n",
    "\n",
    "class CombinedAttributesAdder(BaseEstimator, TransformerMixin):\n",
    "\n",
    "    def fit(self, X, y=None):\n",
    "        return self # nothing else to do\n",
    "\n",
    "    def transform(self, X, y=None):\n",
    "\n",
    "\n",
    "        research_dev_per_marketing = X['R&D Spend'].values / X['Marketing Spend'].values\n",
    "\n",
    "        return np.c_[X, research_dev_per_marketing]\n"
   ],
   "metadata": {
    "collapsed": false,
    "pycharm": {
     "name": "#%%\n"
    }
   }
  },
  {
   "cell_type": "code",
   "execution_count": 245,
   "outputs": [],
   "source": [
    "median_research = datacopy['R&D Spend'].median()\n",
    "research = datacopy['R&D Spend'].fillna(median_research)\n",
    "median_marketing = datacopy['Marketing Spend'].median()\n",
    "marketing = datacopy['Marketing Spend'].fillna(median_marketing)\n",
    "datacopy['Marketing Spend'] = marketing\n",
    "datacopy['R&D Spend'] = research\n",
    "\n",
    "train_set, test_set = train_test_split(datacopy, test_size=0.2, random_state=42)\n"
   ],
   "metadata": {
    "collapsed": false,
    "pycharm": {
     "name": "#%%\n"
    }
   }
  },
  {
   "cell_type": "code",
   "execution_count": 246,
   "outputs": [
    {
     "data": {
      "text/plain": "    R&D Spend  Administration  Marketing Spend    Profit  \\\n13   1.047236        0.443278         1.077518  1.294980   \n39  -0.592042       -1.301221         0.193780 -0.578088   \n30   0.126942       -0.216272        -0.760535  0.087194   \n45  -1.744278        0.066492        -1.775830 -1.143143   \n17   1.128987        0.761612         1.417849  0.980926   \n48  -1.758334       -2.338989         0.810072 -2.171109   \n26   0.536022        0.730332        -0.272172  0.290869   \n25   0.208860        0.578089        -0.227652  0.349583   \n32   0.170333        0.234805        -1.273102 -0.001001   \n19   0.876274        1.041876         0.810072  0.889788   \n\n    research_per_marketing  \n13               -0.368049  \n39               -0.784589  \n30                0.548138  \n45                0.099222  \n17               -0.452390  \n48               -1.416178  \n26                0.205262  \n25               -0.064893  \n32                2.563785  \n19               -0.330308  ",
      "text/html": "<div>\n<style scoped>\n    .dataframe tbody tr th:only-of-type {\n        vertical-align: middle;\n    }\n\n    .dataframe tbody tr th {\n        vertical-align: top;\n    }\n\n    .dataframe thead th {\n        text-align: right;\n    }\n</style>\n<table border=\"1\" class=\"dataframe\">\n  <thead>\n    <tr style=\"text-align: right;\">\n      <th></th>\n      <th>R&amp;D Spend</th>\n      <th>Administration</th>\n      <th>Marketing Spend</th>\n      <th>Profit</th>\n      <th>research_per_marketing</th>\n    </tr>\n  </thead>\n  <tbody>\n    <tr>\n      <th>13</th>\n      <td>1.047236</td>\n      <td>0.443278</td>\n      <td>1.077518</td>\n      <td>1.294980</td>\n      <td>-0.368049</td>\n    </tr>\n    <tr>\n      <th>39</th>\n      <td>-0.592042</td>\n      <td>-1.301221</td>\n      <td>0.193780</td>\n      <td>-0.578088</td>\n      <td>-0.784589</td>\n    </tr>\n    <tr>\n      <th>30</th>\n      <td>0.126942</td>\n      <td>-0.216272</td>\n      <td>-0.760535</td>\n      <td>0.087194</td>\n      <td>0.548138</td>\n    </tr>\n    <tr>\n      <th>45</th>\n      <td>-1.744278</td>\n      <td>0.066492</td>\n      <td>-1.775830</td>\n      <td>-1.143143</td>\n      <td>0.099222</td>\n    </tr>\n    <tr>\n      <th>17</th>\n      <td>1.128987</td>\n      <td>0.761612</td>\n      <td>1.417849</td>\n      <td>0.980926</td>\n      <td>-0.452390</td>\n    </tr>\n    <tr>\n      <th>48</th>\n      <td>-1.758334</td>\n      <td>-2.338989</td>\n      <td>0.810072</td>\n      <td>-2.171109</td>\n      <td>-1.416178</td>\n    </tr>\n    <tr>\n      <th>26</th>\n      <td>0.536022</td>\n      <td>0.730332</td>\n      <td>-0.272172</td>\n      <td>0.290869</td>\n      <td>0.205262</td>\n    </tr>\n    <tr>\n      <th>25</th>\n      <td>0.208860</td>\n      <td>0.578089</td>\n      <td>-0.227652</td>\n      <td>0.349583</td>\n      <td>-0.064893</td>\n    </tr>\n    <tr>\n      <th>32</th>\n      <td>0.170333</td>\n      <td>0.234805</td>\n      <td>-1.273102</td>\n      <td>-0.001001</td>\n      <td>2.563785</td>\n    </tr>\n    <tr>\n      <th>19</th>\n      <td>0.876274</td>\n      <td>1.041876</td>\n      <td>0.810072</td>\n      <td>0.889788</td>\n      <td>-0.330308</td>\n    </tr>\n  </tbody>\n</table>\n</div>"
     },
     "execution_count": 246,
     "metadata": {},
     "output_type": "execute_result"
    }
   ],
   "source": [
    "from sklearn.preprocessing import StandardScaler\n",
    "from sklearn.pipeline import Pipeline\n",
    "\n",
    "num_pipeline = Pipeline([\n",
    "    ('attribs_adder', CombinedAttributesAdder()),\n",
    "    ('scaler', StandardScaler())\n",
    "\n",
    "])\n",
    "test_set_tr = num_pipeline.fit_transform(test_set)\n",
    "train_set_tr = num_pipeline.fit_transform(train_set)\n",
    "\n",
    "train_set_tr_extra_attribs = pd.DataFrame(\n",
    "    train_set_tr,\n",
    "    columns=list(train_set.columns)+[\"research_per_marketing\"],\n",
    "    index=train_set.index)\n",
    "test_set_tr_extra_attribs = pd.DataFrame(\n",
    "    test_set_tr,\n",
    "    columns=list(test_set.columns)+[\"research_per_marketing\"],\n",
    "    index=test_set.index)\n",
    "test_set_tr_extra_attribs"
   ],
   "metadata": {
    "collapsed": false,
    "pycharm": {
     "name": "#%%\n"
    }
   }
  },
  {
   "cell_type": "code",
   "execution_count": 247,
   "outputs": [
    {
     "data": {
      "text/plain": "Profit                    1.000000\nR&D Spend                 0.871181\nMarketing Spend           0.726047\nAdministration            0.090235\nresearch_per_marketing   -0.107600\nName: Profit, dtype: float64"
     },
     "execution_count": 247,
     "metadata": {},
     "output_type": "execute_result"
    },
    {
     "data": {
      "text/plain": "<Figure size 432x288 with 25 Axes>",
      "image/png": "[encoded data removed]"
     },
     "metadata": {
      "needs_background": "light"
     },
     "output_type": "display_data"
    }
   ],
   "source": [
    "pd.plotting.scatter_matrix(train_set_tr_extra_attribs, alpha=0.2)\n",
    "corr_matrix_train = train_set_tr_extra_attribs.corr()\n",
    "corr_matrix_train[\"Profit\"].sort_values(ascending=False)"
   ],
   "metadata": {
    "collapsed": false,
    "pycharm": {
     "name": "#%%\n"
    }
   }
  },
  {
   "cell_type": "code",
   "execution_count": 248,
   "outputs": [
    {
     "data": {
      "text/plain": "0.3903767538281936"
     },
     "execution_count": 248,
     "metadata": {},
     "output_type": "execute_result"
    }
   ],
   "source": [
    "from sklearn.metrics import mean_squared_error\n",
    "from sklearn.linear_model import LinearRegression\n",
    "startup_train = train_set_tr_extra_attribs.drop(\"Profit\", axis=1) # drop labels for training set\n",
    "startup_train_prepared = num_pipeline.transform(startup_train)\n",
    "startup_train_labels = train_set_tr_extra_attribs[\"Profit\"].copy()\n",
    "\n",
    "startup_test = test_set_tr_extra_attribs.drop(\"Profit\", axis=1)\n",
    "startup_test_prepared = num_pipeline.transform(startup_test)\n",
    "startup_test_labels = test_set_tr_extra_attribs[\"Profit\"].copy()\n",
    "\n",
    "lin_reg = LinearRegression()\n",
    "lin_reg.fit(startup_train_prepared, startup_train_labels)\n",
    "startup_test_predictions = lin_reg.predict(startup_test_prepared)\n",
    "\n",
    "lin_rmse = mean_squared_error(startup_test_labels, startup_test_predictions, squared=False)\n",
    "lin_rmse\n"
   ],
   "metadata": {
    "collapsed": false,
    "pycharm": {
     "name": "#%%\n"
    }
   }
  },
  {
   "cell_type": "markdown",
   "source": [],
   "metadata": {
    "collapsed": false
   }
  },
  {
   "cell_type": "code",
   "execution_count": 249,
   "outputs": [
    {
     "data": {
      "text/plain": "     Labels  Predictions\n0  1.294980     1.131799\n1 -0.578088    -0.202890\n2  0.087194     0.208078\n3 -1.143143    -1.575514\n4  0.980926     1.151162\n5 -2.171109    -1.625717\n6  0.290869     0.807046\n7  0.349583     0.483835\n8 -0.001001    -0.731646\n9  0.889788     0.991005",
      "text/html": "<div>\n<style scoped>\n    .dataframe tbody tr th:only-of-type {\n        vertical-align: middle;\n    }\n\n    .dataframe tbody tr th {\n        vertical-align: top;\n    }\n\n    .dataframe thead th {\n        text-align: right;\n    }\n</style>\n<table border=\"1\" class=\"dataframe\">\n  <thead>\n    <tr style=\"text-align: right;\">\n      <th></th>\n      <th>Labels</th>\n      <th>Predictions</th>\n    </tr>\n  </thead>\n  <tbody>\n    <tr>\n      <th>0</th>\n      <td>1.294980</td>\n      <td>1.131799</td>\n    </tr>\n    <tr>\n      <th>1</th>\n      <td>-0.578088</td>\n      <td>-0.202890</td>\n    </tr>\n    <tr>\n      <th>2</th>\n      <td>0.087194</td>\n      <td>0.208078</td>\n    </tr>\n    <tr>\n      <th>3</th>\n      <td>-1.143143</td>\n      <td>-1.575514</td>\n    </tr>\n    <tr>\n      <th>4</th>\n      <td>0.980926</td>\n      <td>1.151162</td>\n    </tr>\n    <tr>\n      <th>5</th>\n      <td>-2.171109</td>\n      <td>-1.625717</td>\n    </tr>\n    <tr>\n      <th>6</th>\n      <td>0.290869</td>\n      <td>0.807046</td>\n    </tr>\n    <tr>\n      <th>7</th>\n      <td>0.349583</td>\n      <td>0.483835</td>\n    </tr>\n    <tr>\n      <th>8</th>\n      <td>-0.001001</td>\n      <td>-0.731646</td>\n    </tr>\n    <tr>\n      <th>9</th>\n      <td>0.889788</td>\n      <td>0.991005</td>\n    </tr>\n  </tbody>\n</table>\n</div>"
     },
     "execution_count": 249,
     "metadata": {},
     "output_type": "execute_result"
    }
   ],
   "source": [
    "df = pd.DataFrame(\n",
    "    list(startup_test_labels), columns = ['Labels'])\n",
    "df['Predictions'] = list(lin_reg.predict(startup_test_prepared))\n",
    "df\n",
    "\n"
   ],
   "metadata": {
    "collapsed": false,
    "pycharm": {
     "name": "#%%\n"
    }
   }
  },
  {
   "cell_type": "code",
   "execution_count": 250,
   "outputs": [
    {
     "data": {
      "text/plain": "0.11262746974480074"
     },
     "execution_count": 250,
     "metadata": {},
     "output_type": "execute_result"
    }
   ],
   "source": [
    "lin_rmse/(test_set_tr_extra_attribs['Profit'].max()-test_set_tr_extra_attribs['Profit'].min())"
   ],
   "metadata": {
    "collapsed": false,
    "pycharm": {
     "name": "#%%\n"
    }
   }
  },
  {
   "cell_type": "code",
   "execution_count": 251,
   "outputs": [
    {
     "name": "stdout",
     "output_type": "stream",
     "text": [
      "Scores: [0.20046229 0.30226354 0.94605923 0.2038147  0.34004912 0.33738388\n",
      " 0.20339225 0.05148153 1.10673836 0.2544448 ]\n",
      "Mean: 0.394608968710673\n",
      "Standard deviation: 0.3277264839349857\n"
     ]
    },
    {
     "data": {
      "text/plain": "GridSearchCV(cv=5, estimator=LinearRegression(),\n             param_grid=[{'normalize': [True, False]}], return_train_score=True,\n             scoring='neg_mean_squared_error')"
     },
     "execution_count": 251,
     "metadata": {},
     "output_type": "execute_result"
    }
   ],
   "source": [
    "from sklearn.tree import DecisionTreeRegressor\n",
    "from sklearn.model_selection import cross_val_score, GridSearchCV\n",
    "\n",
    "tree_reg = DecisionTreeRegressor(random_state=42)\n",
    "tree_reg.fit(startup_train_prepared, startup_train_labels)\n",
    "\n",
    "scores = cross_val_score(lin_reg, startup_train_prepared, startup_train_labels,\n",
    "                         scoring=\"neg_mean_squared_error\", cv=10)\n",
    "tree_rmse_scores = np.sqrt(-scores)\n",
    "\n",
    "def display_scores(scores):\n",
    "    print(\"Scores:\", scores)\n",
    "    print(\"Mean:\", scores.mean())\n",
    "    print(\"Standard deviation:\", scores.std())\n",
    "display_scores(tree_rmse_scores)\n",
    "\n",
    "\n",
    "\n",
    "param_grid = [\n",
    "    {'normalize': [True, False]}\n",
    "]\n",
    "lin_reg_grid = LinearRegression()\n",
    "grid_search = GridSearchCV(lin_reg_grid, param_grid, cv=5,\n",
    "                           scoring='neg_mean_squared_error',\n",
    "                           return_train_score=True)\n",
    "grid_search.fit(startup_train_prepared, startup_train_labels)"
   ],
   "metadata": {
    "collapsed": false,
    "pycharm": {
     "name": "#%%\n"
    }
   }
  },
  {
   "cell_type": "code",
   "execution_count": 252,
   "outputs": [
    {
     "data": {
      "text/plain": "{'normalize': True}"
     },
     "execution_count": 252,
     "metadata": {},
     "output_type": "execute_result"
    }
   ],
   "source": [
    "grid_search.best_params_"
   ],
   "metadata": {
    "collapsed": false,
    "pycharm": {
     "name": "#%%\n"
    }
   }
  },
  {
   "cell_type": "code",
   "execution_count": 253,
   "outputs": [
    {
     "data": {
      "text/plain": "LinearRegression(normalize=True)"
     },
     "execution_count": 253,
     "metadata": {},
     "output_type": "execute_result"
    }
   ],
   "source": [
    "grid_search.best_estimator_"
   ],
   "metadata": {
    "collapsed": false,
    "pycharm": {
     "name": "#%%\n"
    }
   }
  },
  {
   "cell_type": "code",
   "execution_count": 254,
   "outputs": [
    {
     "name": "stdout",
     "output_type": "stream",
     "text": [
      "0.5116279707458489 {'normalize': True}\n",
      "0.5116279707491023 {'normalize': False}\n"
     ]
    }
   ],
   "source": [
    "cvres = grid_search.cv_results_\n",
    "for mean_score, params in zip(cvres[\"mean_test_score\"], cvres[\"params\"]):\n",
    "    print(np.sqrt(-mean_score), params)"
   ],
   "metadata": {
    "collapsed": false,
    "pycharm": {
     "name": "#%%\n"
    }
   }
  },
  {
   "cell_type": "code",
   "execution_count": 256,
   "outputs": [],
   "source": [
    "final_model = grid_search.best_estimator_\n",
    "\n",
    "X_test = test_set_tr_extra_attribs.drop(\"Profit\", axis=1)\n",
    "y_test = test_set_tr_extra_attribs[\"Profit\"].copy()\n",
    "\n",
    "X_test_prepared = num_pipeline.transform(X_test)\n",
    "final_predictions = final_model.predict(X_test_prepared)\n",
    "\n",
    "final_mse = mean_squared_error(y_test, final_predictions)\n",
    "final_rmse = np.sqrt(final_mse)\n",
    "final_rmse\n"
   ],
   "metadata": {
    "collapsed": false,
    "pycharm": {
     "name": "#%%\n"
    }
   }
  }
 ],
 "metadata": {
  "kernelspec": {
   "display_name": "Python 3",
   "language": "python",
   "name": "python3"
  },
  "language_info": {
   "codemirror_mode": {
    "name": "ipython",
    "version": 2
   },
   "file_extension": ".py",
   "mimetype": "text/x-python",
   "name": "python",
   "nbconvert_exporter": "python",
   "pygments_lexer": "ipython2",
   "version": "2.7.6"
  }
 },
 "nbformat": 4,
 "nbformat_minor": 0
}